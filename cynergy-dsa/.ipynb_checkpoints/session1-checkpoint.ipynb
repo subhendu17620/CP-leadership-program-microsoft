{
 "cells": [
  {
   "cell_type": "code",
   "execution_count": null,
   "metadata": {},
   "outputs": [],
   "source": [
    "#1.https://www.hackerearth.com/practice/data-structures/arrays/1-d/practice-problems/algorithm/monk-and-welcome-problem/\n",
    "n = int(input())\n",
    "list1 = list(map(int, input().split()))\n",
    "list2 = list(map(int, input().split()))\n",
    "print(*([list1[i] + list2[i] for i in range(n)]))"
   ]
  },
  {
   "cell_type": "code",
   "execution_count": null,
   "metadata": {},
   "outputs": [],
   "source": [
    "#2.https://www.hackerrank.com/challenges/array-left-rotation/problem\n",
    "nd = input().split()\n",
    "n = int(nd[0])\n",
    "d = int(nd[1])\n",
    "a = list(map(int, input().rstrip().split()))\n",
    "print(*(a[d:]+a[:d]))\n",
    "\n"
   ]
  },
  {
   "cell_type": "code",
   "execution_count": null,
   "metadata": {},
   "outputs": [],
   "source": [
    "#3.\thttps://www.hackerearth.com/practice/data-structures/arrays/1-d/practice-problems/algorithm/long-atm-queue-3/\n",
    "n=int(input())\n",
    "h = list(map(int, input().rstrip().split()))\n",
    "count=1\n",
    "max_height = h[0]\n",
    "for i in range(1,len(h)):\n",
    "    if h[i]>=max_height:\n",
    "        max_height = h[i]\n",
    "    else:\n",
    "        max_height = h[i]\n",
    "        count+=1\n",
    "print(count)"
   ]
  },
  {
   "cell_type": "code",
   "execution_count": null,
   "metadata": {},
   "outputs": [],
   "source": [
    "#4.https://practice.geeksforgeeks.org/problems/move-all-zeroes-to-end-of-array/0\n",
    "for _ in range(int(input())):\n",
    "    n = int(input())\n",
    "    a = list(map(int, input().rstrip().split()))\n",
    "    count=0\n",
    "    for i in a:\n",
    "        if i==0:\n",
    "            count+=1\n",
    "        else:\n",
    "            print(i,end=\" \")\n",
    "    print('0 '*count)"
   ]
  },
  {
   "cell_type": "code",
   "execution_count": null,
   "metadata": {},
   "outputs": [],
   "source": [
    "#5.https://www.hackerearth.com/practice/data-structures/arrays/1-d/practice-problems/algorithm/range-query-2/\n",
    "n,q= list(map(int , input().split()))\n",
    "a = list(map(int, input().rstrip().split()))\n",
    "for i in range(q):\n",
    "        queries = list(map(int, input().rstrip().split()))\n",
    "        if queries[0]==1:\n",
    "            a[queries[1]-1] = int(not a[queries[1]-1])\n",
    "        else:\n",
    "            if a[queries[2]-1] == 1:\n",
    "                print(\"ODD\")\n",
    "            else:\n",
    "                print(\"EVEN\")"
   ]
  },
  {
   "cell_type": "code",
   "execution_count": null,
   "metadata": {},
   "outputs": [],
   "source": [
    "#6.https://www.hackerearth.com/practice/data-structures/arrays/1-d/practice-problems/algorithm/pairs-having-similar-element-eed098aa/\n",
    "n = int(input())\n",
    "a = list(map(int, input().rstrip().split()))\n",
    "a.sort()\n",
    "count=0\n",
    "total=0\n",
    "start=a[0]\n",
    "for i in range(1,n):\n",
    "    if a[i]-a[i-1]>1:\n",
    "        if a[i-1]!=start:\n",
    "            total=total+count*(count+1)//2\n",
    "        count=0\n",
    "        start=a[i]\n",
    "    else:\n",
    "        count=count+1\n",
    "            \n",
    "if a[-1]!=start:\n",
    "    total+=count*(count+1)//2\n",
    "print(total)\n",
    "        "
   ]
  },
  {
   "cell_type": "code",
   "execution_count": null,
   "metadata": {},
   "outputs": [],
   "source": [
    "# 7.https://www.hackerearth.com/practice/data-structures/arrays/1-d/practice-problems/algorithm/hamiltonian-and-lagrangian/\n",
    "n= int(input())\n",
    "a = list(map(int, input().rstrip().split()))\n",
    "flag=0\n",
    "for i in range(n):\n",
    "    for j in range(i+1,n):\n",
    "        if a[i]<a[j]:\n",
    "            flag=1\n",
    "            break\n",
    "    if flag==0:\n",
    "        print(a[i],end=\" \")\n",
    "    flag=0\n"
   ]
  },
  {
   "cell_type": "code",
   "execution_count": null,
   "metadata": {},
   "outputs": [],
   "source": [
    "# 8.https://www.hackerearth.com/practice/data-structures/arrays/1-d/practice-problems/algorithm/beautiful-segments/\n",
    "\n",
    "\n",
    "### SOME PROBLEM HERE - test case 1\n",
    "def isBeautifull(arr,l,r):\n",
    "    m = (l+r)//2\n",
    "    for i in range(l,m):\n",
    "        if arr[i]>arr[i+1]:\n",
    "            return 0\n",
    "    for i in range(m,r):\n",
    "        if arr[i]<=arr[i+1]:\n",
    "            return 0\n",
    "    return 1\n",
    "\n",
    "for _ in range(int(input())):\n",
    "    n= int(input())\n",
    "    a = list(map(int, input().rstrip().split()))\n",
    "    count=0\n",
    "\n",
    "    for i in range(0,n-2):\n",
    "        for j in range(i+2,n,2):\n",
    "            if isBeautifull(a,i,j):\n",
    "                count+=1\n",
    "    print(count)"
   ]
  },
  {
   "cell_type": "code",
   "execution_count": null,
   "metadata": {},
   "outputs": [],
   "source": [
    "#9. https://www.hackerearth.com/practice/data-structures/arrays/1-d/practice-problems/algorithm/can-you-solve-it/\n",
    "\n",
    "# brute force\n",
    "# for _ in range(int(input())):\n",
    "#     n= int(input())\n",
    "#     a = list(map(int, input().rstrip().split()))\n",
    "#     res = 0; \n",
    "#     for i in range(n): \n",
    "#         for j in range(n): \n",
    "#             res = max(res, abs(a[i] - a[j]) + abs(i - j))\n",
    "#     print(res)\n",
    "\n",
    "\n",
    "for _ in range(int(input())):\n",
    "    n=int(input())\n",
    "    a=[int(j) for j in input().split()]\n",
    "    l1=[]\n",
    "    l2=[]\n",
    "    for i in range(n):\n",
    "        l1.append(a[i]+i)\n",
    "        l2.append(a[i]-i)\n",
    "    print(max((max(l1)-min(l1)),(max(l2)-min(l2))))\n",
    "\n"
   ]
  },
  {
   "cell_type": "code",
   "execution_count": null,
   "metadata": {},
   "outputs": [],
   "source": [
    "# |a[i]-a[j]|+|i-j|\n",
    "# simplify as\n",
    "# +/-(a[i]-a[j])+(+/-(i-j))\n",
    "# result2 eqn a[i]+i - a[j]+j\n",
    "# a[i]-i - a[j] -j\n",
    "for i in range(0,n):\n",
    "b.append(a[i]+i)"
   ]
  },
  {
   "cell_type": "code",
   "execution_count": null,
   "metadata": {},
   "outputs": [],
   "source": []
  }
 ],
 "metadata": {
  "kernelspec": {
   "display_name": "Python 3",
   "language": "python",
   "name": "python3"
  },
  "language_info": {
   "codemirror_mode": {
    "name": "ipython",
    "version": 3
   },
   "file_extension": ".py",
   "mimetype": "text/x-python",
   "name": "python",
   "nbconvert_exporter": "python",
   "pygments_lexer": "ipython3",
   "version": "3.7.4"
  }
 },
 "nbformat": 4,
 "nbformat_minor": 2
}
