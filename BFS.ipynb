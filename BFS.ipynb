{
 "cells": [
  {
   "cell_type": "markdown",
   "metadata": {},
   "source": [
    "# rat-maze problem using BFS(Breadth-First-Search)"
   ]
  },
  {
   "cell_type": "code",
   "execution_count": 1,
   "metadata": {},
   "outputs": [],
   "source": [
    "from collections import defaultdict"
   ]
  },
  {
   "cell_type": "code",
   "execution_count": 2,
   "metadata": {},
   "outputs": [],
   "source": [
    "def bfs(adjlist,src):\n",
    "    path =defaultdict(lambda:int(\"inf\"))\n",
    "    path[src]=0\n",
    "    vis=defaultdict(lambda:False)\n",
    "    q=[src]\n",
    "    while len(q):\n",
    "        node=q.pop(0)\n",
    "        for destnode in adjlist[node]:\n",
    "            if not vis[destnode]:\n",
    "                path[destnode]= path[node]+1\n",
    "                q.append(destnode)\n",
    "                vis[destnode]=True\n",
    "    return path"
   ]
  },
  {
   "cell_type": "code",
   "execution_count": 3,
   "metadata": {},
   "outputs": [],
   "source": [
    "def crt_adjlist(mat):\n",
    "    adj=defaultdict(lambda:[])\n",
    "    ctr=1\n",
    "    for i in range(0,len(mat)):\n",
    "        for j in range(len(mat[i])):\n",
    "            if mat[i][j]==1:\n",
    "                if i<(len(mat)-1) and mat[i+1][j]==1:\n",
    "                    adj[ctr].append(ctr+len(mat[i]))\n",
    "                if j<len(mat[i])-1 and mat[i][j+1]==1:\n",
    "                    adj[ctr].append((ctr+1))\n",
    "            ctr+=1\n",
    "    return adj"
   ]
  },
  {
   "cell_type": "code",
   "execution_count": 4,
   "metadata": {},
   "outputs": [],
   "source": [
    "ma=[[1,0,0,0],[1,1,0,0],[0,1,0,0],[1,1,1,1]]\n",
    "adj=crt_adjlist(ma)"
   ]
  },
  {
   "cell_type": "code",
   "execution_count": 5,
   "metadata": {},
   "outputs": [
    {
     "data": {
      "text/plain": [
       "defaultdict(<function __main__.crt_adjlist.<locals>.<lambda>()>,\n",
       "            {1: [5], 5: [6], 6: [10], 10: [14], 13: [14], 14: [15], 15: [16]})"
      ]
     },
     "execution_count": 5,
     "metadata": {},
     "output_type": "execute_result"
    }
   ],
   "source": [
    "adj"
   ]
  },
  {
   "cell_type": "code",
   "execution_count": 6,
   "metadata": {},
   "outputs": [
    {
     "data": {
      "text/plain": [
       "defaultdict(<function __main__.bfs.<locals>.<lambda>()>,\n",
       "            {1: 0, 5: 1, 6: 2, 10: 3, 14: 4, 15: 5, 16: 6})"
      ]
     },
     "execution_count": 6,
     "metadata": {},
     "output_type": "execute_result"
    }
   ],
   "source": [
    "bfs(adj,1)"
   ]
  }
 ],
 "metadata": {
  "kernelspec": {
   "display_name": "Python 3",
   "language": "python",
   "name": "python3"
  },
  "language_info": {
   "codemirror_mode": {
    "name": "ipython",
    "version": 3
   },
   "file_extension": ".py",
   "mimetype": "text/x-python",
   "name": "python",
   "nbconvert_exporter": "python",
   "pygments_lexer": "ipython3",
   "version": "3.7.3"
  }
 },
 "nbformat": 4,
 "nbformat_minor": 2
}
