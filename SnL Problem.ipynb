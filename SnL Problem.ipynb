{
 "cells": [
  {
   "cell_type": "markdown",
   "metadata": {},
   "source": [
    "### Snake and Ladder Problem\n",
    "#### Finding min. steps needed to win the game "
   ]
  },
  {
   "cell_type": "code",
   "execution_count": 92,
   "metadata": {},
   "outputs": [
    {
     "data": {
      "text/html": [
       "<img src=\"SnL.jpg\"/>"
      ],
      "text/plain": [
       "<IPython.core.display.Image object>"
      ]
     },
     "execution_count": 92,
     "metadata": {},
     "output_type": "execute_result"
    }
   ],
   "source": [
    "from IPython.display import Image\n",
    "from IPython.core.display import HTML \n",
    "Image(url= \"SnL.jpg\")"
   ]
  },
  {
   "cell_type": "code",
   "execution_count": 93,
   "metadata": {},
   "outputs": [],
   "source": [
    "from collections import defaultdict"
   ]
  },
  {
   "cell_type": "code",
   "execution_count": null,
   "metadata": {},
   "outputs": [],
   "source": []
  },
  {
   "cell_type": "code",
   "execution_count": 99,
   "metadata": {},
   "outputs": [],
   "source": [
    "adjlist = defaultdict(lambda:[])\n",
    "for i in range(100):\n",
    "    for j in range(6):\n",
    "        if(i+j+1 <= 100 ): # we can skip the snakes\n",
    "            adjlist[i].append(i+j+1)"
   ]
  },
  {
   "cell_type": "code",
   "execution_count": 100,
   "metadata": {},
   "outputs": [],
   "source": [
    "# ladders\n",
    "adjlist[5]=[35]\n",
    "adjlist[17]=[43]\n",
    "adjlist[33]=[67]\n",
    "adjlist[42]=[78]\n",
    "adjlist[65]=[95]\n",
    "\n",
    "#snakes\n",
    "adjlist[32]=[8]\n",
    "adjlist[41]=[18]\n",
    "adjlist[66]=[36]\n",
    "adjlist[87]=[69]\n",
    "adjlist[99]=[56]\n",
    "\n"
   ]
  },
  {
   "cell_type": "code",
   "execution_count": 101,
   "metadata": {},
   "outputs": [
    {
     "data": {
      "text/plain": [
       "defaultdict(<function __main__.<lambda>()>,\n",
       "            {0: [1, 2, 3, 4, 5, 6],\n",
       "             1: [2, 3, 4, 5, 6, 7],\n",
       "             2: [3, 4, 5, 6, 7, 8],\n",
       "             3: [4, 5, 6, 7, 8, 9],\n",
       "             4: [5, 6, 7, 8, 9, 10],\n",
       "             5: [35],\n",
       "             6: [7, 8, 9, 10, 11, 12],\n",
       "             7: [8, 9, 10, 11, 12, 13],\n",
       "             8: [9, 10, 11, 12, 13, 14],\n",
       "             9: [10, 11, 12, 13, 14, 15],\n",
       "             10: [11, 12, 13, 14, 15, 16],\n",
       "             11: [12, 13, 14, 15, 16, 17],\n",
       "             12: [13, 14, 15, 16, 17, 18],\n",
       "             13: [14, 15, 16, 17, 18, 19],\n",
       "             14: [15, 16, 17, 18, 19, 20],\n",
       "             15: [16, 17, 18, 19, 20, 21],\n",
       "             16: [17, 18, 19, 20, 21, 22],\n",
       "             17: [43],\n",
       "             18: [19, 20, 21, 22, 23, 24],\n",
       "             19: [20, 21, 22, 23, 24, 25],\n",
       "             20: [21, 22, 23, 24, 25, 26],\n",
       "             21: [22, 23, 24, 25, 26, 27],\n",
       "             22: [23, 24, 25, 26, 27, 28],\n",
       "             23: [24, 25, 26, 27, 28, 29],\n",
       "             24: [25, 26, 27, 28, 29, 30],\n",
       "             25: [26, 27, 28, 29, 30, 31],\n",
       "             26: [27, 28, 29, 30, 31, 32],\n",
       "             27: [28, 29, 30, 31, 32, 33],\n",
       "             28: [29, 30, 31, 32, 33, 34],\n",
       "             29: [30, 31, 32, 33, 34, 35],\n",
       "             30: [31, 32, 33, 34, 35, 36],\n",
       "             31: [32, 33, 34, 35, 36, 37],\n",
       "             32: [8],\n",
       "             33: [67],\n",
       "             34: [35, 36, 37, 38, 39, 40],\n",
       "             35: [36, 37, 38, 39, 40, 41],\n",
       "             36: [37, 38, 39, 40, 41, 42],\n",
       "             37: [38, 39, 40, 41, 42, 43],\n",
       "             38: [39, 40, 41, 42, 43, 44],\n",
       "             39: [40, 41, 42, 43, 44, 45],\n",
       "             40: [41, 42, 43, 44, 45, 46],\n",
       "             41: [18],\n",
       "             42: [78],\n",
       "             43: [44, 45, 46, 47, 48, 49],\n",
       "             44: [45, 46, 47, 48, 49, 50],\n",
       "             45: [46, 47, 48, 49, 50, 51],\n",
       "             46: [47, 48, 49, 50, 51, 52],\n",
       "             47: [48, 49, 50, 51, 52, 53],\n",
       "             48: [49, 50, 51, 52, 53, 54],\n",
       "             49: [50, 51, 52, 53, 54, 55],\n",
       "             50: [51, 52, 53, 54, 55, 56],\n",
       "             51: [52, 53, 54, 55, 56, 57],\n",
       "             52: [53, 54, 55, 56, 57, 58],\n",
       "             53: [54, 55, 56, 57, 58, 59],\n",
       "             54: [55, 56, 57, 58, 59, 60],\n",
       "             55: [56, 57, 58, 59, 60, 61],\n",
       "             56: [57, 58, 59, 60, 61, 62],\n",
       "             57: [58, 59, 60, 61, 62, 63],\n",
       "             58: [59, 60, 61, 62, 63, 64],\n",
       "             59: [60, 61, 62, 63, 64, 65],\n",
       "             60: [61, 62, 63, 64, 65, 66],\n",
       "             61: [62, 63, 64, 65, 66, 67],\n",
       "             62: [63, 64, 65, 66, 67, 68],\n",
       "             63: [64, 65, 66, 67, 68, 69],\n",
       "             64: [65, 66, 67, 68, 69, 70],\n",
       "             65: [95],\n",
       "             66: [36],\n",
       "             67: [68, 69, 70, 71, 72, 73],\n",
       "             68: [69, 70, 71, 72, 73, 74],\n",
       "             69: [70, 71, 72, 73, 74, 75],\n",
       "             70: [71, 72, 73, 74, 75, 76],\n",
       "             71: [72, 73, 74, 75, 76, 77],\n",
       "             72: [73, 74, 75, 76, 77, 78],\n",
       "             73: [74, 75, 76, 77, 78, 79],\n",
       "             74: [75, 76, 77, 78, 79, 80],\n",
       "             75: [76, 77, 78, 79, 80, 81],\n",
       "             76: [77, 78, 79, 80, 81, 82],\n",
       "             77: [78, 79, 80, 81, 82, 83],\n",
       "             78: [79, 80, 81, 82, 83, 84],\n",
       "             79: [80, 81, 82, 83, 84, 85],\n",
       "             80: [81, 82, 83, 84, 85, 86],\n",
       "             81: [82, 83, 84, 85, 86, 87],\n",
       "             82: [83, 84, 85, 86, 87, 88],\n",
       "             83: [84, 85, 86, 87, 88, 89],\n",
       "             84: [85, 86, 87, 88, 89, 90],\n",
       "             85: [86, 87, 88, 89, 90, 91],\n",
       "             86: [87, 88, 89, 90, 91, 92],\n",
       "             87: [69],\n",
       "             88: [89, 90, 91, 92, 93, 94],\n",
       "             89: [90, 91, 92, 93, 94, 95],\n",
       "             90: [91, 92, 93, 94, 95, 96],\n",
       "             91: [92, 93, 94, 95, 96, 97],\n",
       "             92: [93, 94, 95, 96, 97, 98],\n",
       "             93: [94, 95, 96, 97, 98, 99],\n",
       "             94: [95, 96, 97, 98, 99, 100],\n",
       "             95: [96, 97, 98, 99, 100],\n",
       "             96: [97, 98, 99, 100],\n",
       "             97: [98, 99, 100],\n",
       "             98: [99, 100],\n",
       "             99: [56]})"
      ]
     },
     "execution_count": 101,
     "metadata": {},
     "output_type": "execute_result"
    }
   ],
   "source": [
    "adjlist"
   ]
  },
  {
   "cell_type": "code",
   "execution_count": 102,
   "metadata": {},
   "outputs": [],
   "source": [
    "path =defaultdict(lambda:int(\"inf\"))\n",
    "temp =defaultdict(lambda:int(\"inf\"))\n",
    "vis=defaultdict(lambda:False)\n",
    "def bfs(adjlist,src,destn):\n",
    "    path[src]=0\n",
    "    q=[src]\n",
    "    while len(q):\n",
    "        node=q.pop(0)\n",
    "        for destnode in adjlist[node]:\n",
    "            if vis[destnode] is False:\n",
    "                if len(adjlist[destnode])==1:\n",
    "                    path[destnode]= path[node]\n",
    "                else:\n",
    "                    path[destnode]=path[node]+1\n",
    "                    \n",
    "                q.append(destnode)\n",
    "                vis[destnode]=True\n",
    "    return path[destn]"
   ]
  },
  {
   "cell_type": "code",
   "execution_count": 103,
   "metadata": {},
   "outputs": [
    {
     "data": {
      "text/plain": [
       "7"
      ]
     },
     "execution_count": 103,
     "metadata": {},
     "output_type": "execute_result"
    }
   ],
   "source": [
    "bfs(adjlist,0,100)"
   ]
  },
  {
   "cell_type": "code",
   "execution_count": 104,
   "metadata": {},
   "outputs": [
    {
     "data": {
      "text/plain": [
       "defaultdict(<function __main__.<lambda>()>,\n",
       "            {0: 0,\n",
       "             1: 1,\n",
       "             2: 1,\n",
       "             3: 1,\n",
       "             4: 1,\n",
       "             5: 0,\n",
       "             6: 1,\n",
       "             7: 2,\n",
       "             8: 2,\n",
       "             9: 2,\n",
       "             10: 2,\n",
       "             35: 1,\n",
       "             11: 2,\n",
       "             12: 2,\n",
       "             13: 3,\n",
       "             14: 3,\n",
       "             15: 3,\n",
       "             16: 3,\n",
       "             36: 2,\n",
       "             37: 2,\n",
       "             38: 2,\n",
       "             39: 2,\n",
       "             40: 2,\n",
       "             41: 1,\n",
       "             17: 2,\n",
       "             18: 3,\n",
       "             19: 4,\n",
       "             20: 4,\n",
       "             21: 4,\n",
       "             22: 4,\n",
       "             42: 2,\n",
       "             43: 3,\n",
       "             44: 3,\n",
       "             45: 3,\n",
       "             46: 3,\n",
       "             23: 4,\n",
       "             24: 4,\n",
       "             25: 5,\n",
       "             26: 5,\n",
       "             27: 5,\n",
       "             28: 5,\n",
       "             78: 3,\n",
       "             47: 4,\n",
       "             48: 4,\n",
       "             49: 4,\n",
       "             50: 4,\n",
       "             51: 4,\n",
       "             52: 4,\n",
       "             29: 5,\n",
       "             30: 5,\n",
       "             31: 6,\n",
       "             32: 5,\n",
       "             33: 5,\n",
       "             34: 6,\n",
       "             79: 4,\n",
       "             80: 4,\n",
       "             81: 4,\n",
       "             82: 4,\n",
       "             83: 4,\n",
       "             84: 4,\n",
       "             53: 5,\n",
       "             54: 5,\n",
       "             55: 5,\n",
       "             56: 5,\n",
       "             57: 5,\n",
       "             58: 5,\n",
       "             67: 6,\n",
       "             85: 5,\n",
       "             86: 5,\n",
       "             87: 4,\n",
       "             88: 5,\n",
       "             89: 5,\n",
       "             90: 5,\n",
       "             59: 6,\n",
       "             60: 6,\n",
       "             61: 6,\n",
       "             62: 6,\n",
       "             63: 6,\n",
       "             64: 6,\n",
       "             68: 7,\n",
       "             69: 7,\n",
       "             70: 7,\n",
       "             71: 7,\n",
       "             72: 7,\n",
       "             73: 7,\n",
       "             91: 6,\n",
       "             92: 6,\n",
       "             93: 6,\n",
       "             94: 6,\n",
       "             95: 6,\n",
       "             96: 6,\n",
       "             65: 6,\n",
       "             66: 6,\n",
       "             74: 8,\n",
       "             75: 8,\n",
       "             76: 8,\n",
       "             77: 8,\n",
       "             97: 7,\n",
       "             98: 7,\n",
       "             99: 6,\n",
       "             100: 7})"
      ]
     },
     "execution_count": 104,
     "metadata": {},
     "output_type": "execute_result"
    }
   ],
   "source": [
    "path"
   ]
  },
  {
   "cell_type": "code",
   "execution_count": 105,
   "metadata": {},
   "outputs": [],
   "source": [
    "# for steps"
   ]
  },
  {
   "cell_type": "code",
   "execution_count": 40,
   "metadata": {},
   "outputs": [],
   "source": [
    "# temp=0\n",
    "# ct=0\n",
    "# srt_path ={}\n",
    "# srt_path[0]=0\n",
    "# for i in path:    \n",
    "#     if(temp<path[i+1]):\n",
    "#         srt_path[i]=ct\n",
    "#     ct+=1\n",
    "        \n",
    "    "
   ]
  },
  {
   "cell_type": "code",
   "execution_count": null,
   "metadata": {},
   "outputs": [],
   "source": []
  },
  {
   "cell_type": "code",
   "execution_count": null,
   "metadata": {},
   "outputs": [],
   "source": []
  }
 ],
 "metadata": {
  "kernelspec": {
   "display_name": "Python 3",
   "language": "python",
   "name": "python3"
  },
  "language_info": {
   "codemirror_mode": {
    "name": "ipython",
    "version": 3
   },
   "file_extension": ".py",
   "mimetype": "text/x-python",
   "name": "python",
   "nbconvert_exporter": "python",
   "pygments_lexer": "ipython3",
   "version": "3.7.3"
  }
 },
 "nbformat": 4,
 "nbformat_minor": 2
}
