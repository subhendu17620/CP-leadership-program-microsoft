{
 "cells": [
  {
   "cell_type": "raw",
   "metadata": {},
   "source": [
    " we are given a graph. we need to find all possible paths from a source to destination.\n",
    " "
   ]
  },
  {
   "cell_type": "code",
   "execution_count": 40,
   "metadata": {},
   "outputs": [],
   "source": [
    "adjList={\n",
    "    0:[1,3],\n",
    "    1:[2,3],\n",
    "    2:[5],\n",
    "    3:[4],\n",
    "    4:[5],\n",
    "    5:[]\n",
    "}"
   ]
  },
  {
   "cell_type": "code",
   "execution_count": 49,
   "metadata": {},
   "outputs": [],
   "source": [
    "path=[]\n",
    "visited = [False for x in range(len(adjList))]\n",
    "def dfs(v,destn):\n",
    "    visited[v] = True\n",
    "    path.append(v) \n",
    "    if destn==v:\n",
    "        print(path)\n",
    "    else:\n",
    "        for child in adjList[v]:\n",
    "            if not visited[child]:\n",
    "                dfs(child,destn)\n",
    "    path.pop()\n",
    "    visited[v]= False"
   ]
  },
  {
   "cell_type": "code",
   "execution_count": 53,
   "metadata": {},
   "outputs": [
    {
     "name": "stdout",
     "output_type": "stream",
     "text": [
      "[0, 1, 2, 5]\n",
      "[0, 1, 3, 4, 5]\n",
      "[0, 3, 4, 5]\n"
     ]
    }
   ],
   "source": [
    "# dfs takes input as dfs(source,destination)\n",
    "dfs(0,5)"
   ]
  },
  {
   "cell_type": "code",
   "execution_count": null,
   "metadata": {},
   "outputs": [],
   "source": []
  }
 ],
 "metadata": {
  "kernelspec": {
   "display_name": "Python 3",
   "language": "python",
   "name": "python3"
  },
  "language_info": {
   "codemirror_mode": {
    "name": "ipython",
    "version": 3
   },
   "file_extension": ".py",
   "mimetype": "text/x-python",
   "name": "python",
   "nbconvert_exporter": "python",
   "pygments_lexer": "ipython3",
   "version": "3.7.4"
  }
 },
 "nbformat": 4,
 "nbformat_minor": 2
}
