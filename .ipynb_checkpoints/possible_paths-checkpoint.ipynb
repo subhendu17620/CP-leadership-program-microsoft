{
 "cells": [
  {
   "cell_type": "raw",
   "metadata": {},
   "source": [
    " we are given a graph. we need to find all possible paths from a source to destination."
   ]
  },
  {
   "cell_type": "code",
   "execution_count": 6,
   "metadata": {},
   "outputs": [],
   "source": [
    "adjList={\n",
    "    0:[1,3],\n",
    "    1:[2,3],\n",
    "    2:[5],\n",
    "    3:[4],\n",
    "    4:[5],\n",
    "    5:[]\n",
    "}"
   ]
  },
  {
   "cell_type": "code",
   "execution_count": 7,
   "metadata": {},
   "outputs": [
    {
     "data": {
      "text/plain": [
       "[2, 3]"
      ]
     },
     "execution_count": 7,
     "metadata": {},
     "output_type": "execute_result"
    }
   ],
   "source": [
    "visited = [False for x in range(len(graph))]\n",
    "def dfs(v):\n",
    "    visited[v] = True\n",
    "    print(v, end=\" \")\n",
    "    for child in adjList[v]:\n",
    "        if not visited[child]:\n",
    "            dfs(child)"
   ]
  },
  {
   "cell_type": "code",
   "execution_count": null,
   "metadata": {},
   "outputs": [],
   "source": []
  }
 ],
 "metadata": {
  "kernelspec": {
   "display_name": "Python 3",
   "language": "python",
   "name": "python3"
  },
  "language_info": {
   "codemirror_mode": {
    "name": "ipython",
    "version": 3
   },
   "file_extension": ".py",
   "mimetype": "text/x-python",
   "name": "python",
   "nbconvert_exporter": "python",
   "pygments_lexer": "ipython3",
   "version": "3.7.4"
  }
 },
 "nbformat": 4,
 "nbformat_minor": 2
}
