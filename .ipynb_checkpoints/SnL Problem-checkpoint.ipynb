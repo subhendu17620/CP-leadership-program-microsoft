{
 "cells": [
  {
   "cell_type": "markdown",
   "metadata": {},
   "source": [
    "### Snake and Ladder Problem\n",
    "#### Finding min. steps needed to win the game "
   ]
  },
  {
   "cell_type": "code",
   "execution_count": null,
   "metadata": {},
   "outputs": [],
   "source": [
    "from IPython.display import Image\n",
    "from IPython.core.display import HTML \n",
    "Image(url= \"SnL.jpg\")"
   ]
  },
  {
   "cell_type": "code",
   "execution_count": null,
   "metadata": {},
   "outputs": [],
   "source": [
    "from collections import defaultdict"
   ]
  },
  {
   "cell_type": "code",
   "execution_count": null,
   "metadata": {},
   "outputs": [],
   "source": []
  },
  {
   "cell_type": "code",
   "execution_count": null,
   "metadata": {},
   "outputs": [],
   "source": [
    "adjlist = defaultdict(lambda:[])\n",
    "for i in range(100):\n",
    "    for j in range(6):\n",
    "        if(i+j+1 <= 100 ):\n",
    "            adjlist[i].append(i+j+1)"
   ]
  },
  {
   "cell_type": "code",
   "execution_count": null,
   "metadata": {},
   "outputs": [],
   "source": [
    "# ladders\n",
    "adjlist[5]=[35]\n",
    "adjlist[17]=[43]\n",
    "adjlist[33]=[67]\n",
    "adjlist[42]=[78]\n",
    "adjlist[65]=[95]\n",
    "\n",
    "#snakes\n",
    "adjlist[32]=[8]\n",
    "adjlist[41]=[18]\n",
    "adjlist[66]=[36]\n",
    "adjlist[87]=[69]\n",
    "adjlist[99]=[56]\n",
    "\n"
   ]
  },
  {
   "cell_type": "code",
   "execution_count": null,
   "metadata": {},
   "outputs": [],
   "source": [
    "adjlist"
   ]
  },
  {
   "cell_type": "code",
   "execution_count": null,
   "metadata": {},
   "outputs": [],
   "source": [
    "path =defaultdict(lambda:int(\"inf\"))\n",
    "vis=defaultdict(lambda:False)\n",
    "def bfs(adjlist,src,destn):\n",
    "    path[src]=0\n",
    "    q=[src]\n",
    "    while len(q):\n",
    "        node=q.pop(0)\n",
    "        for destnode in adjlist[node]:\n",
    "            if vis[destnode] is False:\n",
    "                if len(adjlist[destnode])==1:\n",
    "                    path[destnode]= 0\n",
    "                else:\n",
    "                    path[destnode]=path[node]+1\n",
    "                q.append(destnode)\n",
    "                vis[destnode]=True\n",
    "    return path[destn]"
   ]
  },
  {
   "cell_type": "code",
   "execution_count": null,
   "metadata": {},
   "outputs": [],
   "source": [
    "bfs(adjlist,0,100)"
   ]
  },
  {
   "cell_type": "code",
   "execution_count": null,
   "metadata": {},
   "outputs": [],
   "source": [
    "path"
   ]
  },
  {
   "cell_type": "code",
   "execution_count": null,
   "metadata": {},
   "outputs": [],
   "source": [
    "# for steps"
   ]
  },
  {
   "cell_type": "code",
   "execution_count": null,
   "metadata": {},
   "outputs": [],
   "source": [
    "# temp=0\n",
    "# ct=0\n",
    "# srt_path ={}\n",
    "# srt_path[0]=0\n",
    "# for i in path:    \n",
    "#     if(temp<path[i+1]):\n",
    "#         srt_path[i]=ct\n",
    "#     ct+=1\n",
    "        \n",
    "    "
   ]
  },
  {
   "cell_type": "code",
   "execution_count": null,
   "metadata": {},
   "outputs": [],
   "source": []
  },
  {
   "cell_type": "code",
   "execution_count": null,
   "metadata": {},
   "outputs": [],
   "source": []
  }
 ],
 "metadata": {
  "kernelspec": {
   "display_name": "Python 3",
   "language": "python",
   "name": "python3"
  },
  "language_info": {
   "codemirror_mode": {
    "name": "ipython",
    "version": 3
   },
   "file_extension": ".py",
   "mimetype": "text/x-python",
   "name": "python",
   "nbconvert_exporter": "python",
   "pygments_lexer": "ipython3",
   "version": "3.7.3"
  }
 },
 "nbformat": 4,
 "nbformat_minor": 2
}
