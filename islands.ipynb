{
 "cells": [
  {
   "cell_type": "markdown",
   "metadata": {},
   "source": [
    "### the no. of island"
   ]
  },
  {
   "cell_type": "raw",
   "metadata": {},
   "source": [
    "the problem is to find the no. of insland from a given matrix\n",
    "the 1's are the island. If 1 is present in left or right or top or down we can consider it as a part of one island."
   ]
  },
  {
   "cell_type": "raw",
   "metadata": {},
   "source": [
    "for Example , \n",
    "In the below matrix, \n",
    "there are 4 islands.\n",
    "Note: we dont consider it as a part of island if 1 is present at diagonal. "
   ]
  },
  {
   "cell_type": "code",
   "execution_count": 1,
   "metadata": {},
   "outputs": [],
   "source": [
    "# no. of islands : 4\n",
    "mat = [\n",
    " [1, 0, 0, 0, 1],\n",
    " [0, 1, 0, 0, 1],\n",
    " [0, 1, 0, 1, 0],\n",
    " [0, 1, 1, 0, 0],\n",
    " [0, 1, 1, 0, 0]\n",
    "]"
   ]
  },
  {
   "cell_type": "code",
   "execution_count": null,
   "metadata": {},
   "outputs": [],
   "source": [
    "# no. of islands : 13\n",
    "mat1 =[\n",
    "     [1,0,1,0,1],\n",
    "     [0,1,0,1,0],\n",
    "     [1,0,1,0,1],\n",
    "     [0,1,0,1,0],\n",
    "     [1,0,1,0,1]]"
   ]
  },
  {
   "cell_type": "code",
   "execution_count": null,
   "metadata": {},
   "outputs": [],
   "source": [
    "# no. of islands : 6\n",
    "mat2 =[ [1, 1, 0, 0, 0], \n",
    "        [0, 1, 0, 0, 1], \n",
    "        [1, 0, 0, 1, 1], \n",
    "        [0, 0, 0, 0, 0], \n",
    "        [1, 0, 1, 0, 1]]"
   ]
  },
  {
   "cell_type": "code",
   "execution_count": null,
   "metadata": {},
   "outputs": [],
   "source": [
    "# no. of islands : 2\n",
    "mat3 = [\n",
    "     [1, 1, 0, 0],\n",
    "     [0, 1, 0, 1],\n",
    "     [0, 1, 0, 0],\n",
    "     [1, 1, 1, 1]]\n",
    " \n"
   ]
  },
  {
   "cell_type": "code",
   "execution_count": 2,
   "metadata": {},
   "outputs": [],
   "source": [
    "def isValid(i, j, visited): \n",
    "    if (i >= 0 and i < len(mat) and j >= 0 and j < len(mat[0]) and not visited[i][j] and mat[i][j]==1):\n",
    "        return True\n",
    "    else:\n",
    "        return False"
   ]
  },
  {
   "cell_type": "code",
   "execution_count": 3,
   "metadata": {},
   "outputs": [],
   "source": [
    " def dfs(i, j, visited):\n",
    "    visited[i][j] = True\n",
    "    if isValid(i-1,j,visited):\n",
    "        dfs(i-1,j,visited)                \n",
    "    if isValid(i+1,j,visited):\n",
    "        dfs(i+1,j,visited)\n",
    "    if isValid(i,j-1,visited):\n",
    "        dfs(i,j-1,visited)\n",
    "    if isValid(i,j+1,visited):\n",
    "        dfs(i,j+1,visited)\n"
   ]
  },
  {
   "cell_type": "code",
   "execution_count": 9,
   "metadata": {},
   "outputs": [],
   "source": [
    "visited = [[False for j in range(len(mat))]for i in range(len(mat[0]))]\n",
    "count = 0\n",
    "for i in range(len(mat)): \n",
    "    for j in range(len(mat[0])):\n",
    "        if isValid(i,j,visited):\n",
    "            dfs(i, j, visited) \n",
    "            count += 1"
   ]
  },
  {
   "cell_type": "code",
   "execution_count": 10,
   "metadata": {},
   "outputs": [
    {
     "data": {
      "text/plain": [
       "4"
      ]
     },
     "execution_count": 10,
     "metadata": {},
     "output_type": "execute_result"
    }
   ],
   "source": [
    "count"
   ]
  },
  {
   "cell_type": "code",
   "execution_count": 1,
   "metadata": {},
   "outputs": [],
   "source": [
    "def crt_adjlist(mat):\n",
    "    adj=defaultdict(lambda:[])\n",
    "    ctr=1\n",
    "    for i in range(0,len(mat)):\n",
    "        for j in range(len(mat[i])):\n",
    "            if mat[i][j]==1:\n",
    "                if i<(len(mat)-1) and mat[i+1][j]==1:\n",
    "                    adj[ctr].append(ctr+len(mat[i]))\n",
    "                if j<len(mat[i])-1 and mat[i][j+1]==1:\n",
    "                    adj[ctr].append((ctr+1))\n",
    "            ctr+=1\n",
    "    return adj"
   ]
  },
  {
   "cell_type": "code",
   "execution_count": null,
   "metadata": {},
   "outputs": [],
   "source": [
    "mat=[[0,0,0,0],[0,0,0,0],[0,0,0],[]]"
   ]
  }
 ],
 "metadata": {
  "kernelspec": {
   "display_name": "Python 3",
   "language": "python",
   "name": "python3"
  },
  "language_info": {
   "codemirror_mode": {
    "name": "ipython",
    "version": 3
   },
   "file_extension": ".py",
   "mimetype": "text/x-python",
   "name": "python",
   "nbconvert_exporter": "python",
   "pygments_lexer": "ipython3",
   "version": "3.7.4"
  }
 },
 "nbformat": 4,
 "nbformat_minor": 2
}
