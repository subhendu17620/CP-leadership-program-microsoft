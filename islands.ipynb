{
 "cells": [
  {
   "cell_type": "markdown",
   "metadata": {},
   "source": [
    "## problem is to find the no. of island"
   ]
  },
  {
   "cell_type": "markdown",
   "metadata": {},
   "source": [
    "given: \n",
    "[1 0 0 0 1;\n",
    " 0 1 0 0 1;\n",
    " 0 1 0 1 0;\n",
    " 0 1 1 0 0;\n",
    " 0 1 1 0 0]\n",
    " "
   ]
  },
  {
   "cell_type": "markdown",
   "metadata": {},
   "source": [
    "no. of island = 4 "
   ]
  },
  {
   "cell_type": "code",
   "execution_count": 17,
   "metadata": {},
   "outputs": [],
   "source": [
    "mat = [\n",
    " [1, 0, 0, 0, 1],\n",
    " [0, 1, 0, 0, 1],\n",
    " [0, 1, 0, 1, 0],\n",
    " [0, 1, 1, 0, 0],\n",
    " [0, 1, 1, 0, 0]\n",
    "]"
   ]
  },
  {
   "cell_type": "code",
   "execution_count": 18,
   "metadata": {},
   "outputs": [],
   "source": [
    "mat=[[1,0,1,0,1],\n",
    "     [0,1,0,1,0],\n",
    "     [1,0,1,0,1],\n",
    "     [0,1,0,1,0],\n",
    "     [1,0,1,0,1]]"
   ]
  },
  {
   "cell_type": "code",
   "execution_count": 23,
   "metadata": {},
   "outputs": [],
   "source": [
    "mat = [\n",
    " [1, 0, 1, 0, 1],\n",
    " [1, 0, 1, 0, 1],\n",
    " [1, 0, 1, 0, 1],\n",
    " [1, 0, 1, 0, 1],\n",
    " [1, 0, 1, 0, 1],\n",
    "]\n"
   ]
  },
  {
   "cell_type": "code",
   "execution_count": 24,
   "metadata": {},
   "outputs": [],
   "source": [
    "def isValid(i, j, visited): \n",
    "    if (i >= 0 and i < len(mat) and j >= 0 and j < len(mat[0]) and not visited[i][j] and mat[i][j]==1):\n",
    "        return True\n",
    "    else:\n",
    "        return False"
   ]
  },
  {
   "cell_type": "code",
   "execution_count": 25,
   "metadata": {},
   "outputs": [],
   "source": [
    " def dfs(i, j, visited):\n",
    "    visited[i][j] = True\n",
    "    if isValid(i-1,j,visited):\n",
    "        dfs(i-1,j,visited)                \n",
    "    elif isValid(i+1,j,visited):\n",
    "        dfs(i+1,j,visited)\n",
    "    elif isValid(i,j-1,visited):\n",
    "        dfs(i,j-1,visited)\n",
    "    elif isValid(i,j+1,visited):\n",
    "        dfs(i,j+1,visited)\n"
   ]
  },
  {
   "cell_type": "code",
   "execution_count": 26,
   "metadata": {},
   "outputs": [],
   "source": [
    "visited = [[False for j in range(len(mat))]for i in range(len(mat[0]))] \n",
    "count = 0\n",
    "for i in range(len(mat)): \n",
    "    for j in range(len(mat[0])):\n",
    "        if isValid(i,j,visited):\n",
    "            dfs(i, j, visited) \n",
    "            count += 1"
   ]
  },
  {
   "cell_type": "code",
   "execution_count": 27,
   "metadata": {},
   "outputs": [
    {
     "data": {
      "text/plain": [
       "3"
      ]
     },
     "execution_count": 27,
     "metadata": {},
     "output_type": "execute_result"
    }
   ],
   "source": [
    "count"
   ]
  },
  {
   "cell_type": "code",
   "execution_count": null,
   "metadata": {},
   "outputs": [],
   "source": []
  }
 ],
 "metadata": {
  "kernelspec": {
   "display_name": "Python 3",
   "language": "python",
   "name": "python3"
  },
  "language_info": {
   "codemirror_mode": {
    "name": "ipython",
    "version": 3
   },
   "file_extension": ".py",
   "mimetype": "text/x-python",
   "name": "python",
   "nbconvert_exporter": "python",
   "pygments_lexer": "ipython3",
   "version": "3.7.4"
  }
 },
 "nbformat": 4,
 "nbformat_minor": 2
}
